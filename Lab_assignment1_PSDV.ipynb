{
  "nbformat": 4,
  "nbformat_minor": 0,
  "metadata": {
    "colab": {
      "provenance": [],
      "include_colab_link": true
    },
    "kernelspec": {
      "name": "python3",
      "display_name": "Python 3"
    },
    "language_info": {
      "name": "python"
    }
  },
  "cells": [
    {
      "cell_type": "markdown",
      "metadata": {
        "id": "view-in-github",
        "colab_type": "text"
      },
      "source": [
        "<a href=\"https://colab.research.google.com/github/Tanmai1808/Jupyter_notebook/blob/main/Lab_assignment1_PSDV.ipynb\" target=\"_parent\"><img src=\"https://colab.research.google.com/assets/colab-badge.svg\" alt=\"Open In Colab\"/></a>"
      ]
    },
    {
      "cell_type": "code",
      "source": [
        "import numpy as np\n",
        "import matplotlib.pyplot as plt\n",
        "%matplotlib inline\n",
        "%config InlineBackend.figure_format = 'retina'"
      ],
      "metadata": {
        "id": "IZLwNgdS-ndV"
      },
      "execution_count": null,
      "outputs": []
    },
    {
      "cell_type": "markdown",
      "source": [
        "\n",
        "# **Creating Arrays**\n",
        "\n",
        "#### 1. Create a 1D array with 20 random integers between 1 and 100.\n",
        "**Hint:** Use the `np.random.randint()` function, specifying the range and size.\n",
        "#### 2. Create a 5x5 matrix where all the border elements are 1, and the inside elements are 0.\n",
        "#### 3. Create a diagonal matrix with values `[1, 2, 3, 4]` on the diagonal.\n",
        "#### 4. Create an array of shape (3, 3) where each row contains numbers from 1 to 3.\n",
        "**Hint:** Use `np.tile()` to repeat arrays along rows or columns.\n",
        "#### 5. Create a 1D array with alternating 0s and 1s of length 10.\n",
        "#### 6. Create a 3x3 matrix with random integers between 10 and 20, and set the datatype to `int32`."
      ],
      "metadata": {
        "id": "AnUxKd3FsdSJ"
      }
    },
    {
      "cell_type": "code",
      "source": [
        "import numpy as np\n",
        "\n",
        "# Create a 1D array with 20 random integers between 1 and 100\n",
        "array = np.random.randint(1, 101, size=20)\n",
        "\n",
        "print(array)\n"
      ],
      "metadata": {
        "colab": {
          "base_uri": "https://localhost:8080/"
        },
        "id": "eiICVtdnuyAY",
        "outputId": "a8cae8d7-f23c-4d4c-a3ad-07cd737345b2"
      },
      "execution_count": null,
      "outputs": [
        {
          "output_type": "stream",
          "name": "stdout",
          "text": [
            "[70 60 89 80 75 49 90 35 78 35 41  9 66 60 18 39 43 71 67 47]\n"
          ]
        }
      ]
    },
    {
      "cell_type": "code",
      "source": [
        "import numpy as np\n",
        "\n",
        "# Create a 5x5 matrix with all elements initialized to 0\n",
        "matrix = np.zeros((5, 5), dtype=int)\n",
        "\n",
        "# Set the border elements to 1\n",
        "matrix[0, :] = 1  # Top row\n",
        "matrix[-1, :] = 1  # Bottom row\n",
        "matrix[:, 0] = 1  # Left column\n",
        "matrix[:, -1] = 1  # Right column\n",
        "\n",
        "print(matrix)\n"
      ],
      "metadata": {
        "colab": {
          "base_uri": "https://localhost:8080/"
        },
        "id": "8v2U4BcovEYa",
        "outputId": "f6a60604-6041-4538-87f4-0d684e0ed1bd"
      },
      "execution_count": null,
      "outputs": [
        {
          "output_type": "stream",
          "name": "stdout",
          "text": [
            "[[1 1 1 1 1]\n",
            " [1 0 0 0 1]\n",
            " [1 0 0 0 1]\n",
            " [1 0 0 0 1]\n",
            " [1 1 1 1 1]]\n"
          ]
        }
      ]
    },
    {
      "cell_type": "code",
      "source": [
        "diagonal_values = [1, 2, 3, 4]\n",
        "\n",
        "# Create the diagonal matrix\n",
        "matrix = np.diag(diagonal_values)\n",
        "\n",
        "print(matrix)"
      ],
      "metadata": {
        "colab": {
          "base_uri": "https://localhost:8080/"
        },
        "id": "8XlcUG8vvYSo",
        "outputId": "9bbbefb7-eeca-460a-8aff-68394f269c38"
      },
      "execution_count": null,
      "outputs": [
        {
          "output_type": "stream",
          "name": "stdout",
          "text": [
            "[[1 0 0 0]\n",
            " [0 2 0 0]\n",
            " [0 0 3 0]\n",
            " [0 0 0 4]]\n"
          ]
        }
      ]
    },
    {
      "cell_type": "code",
      "source": [
        "arr = np.tile([1, 2, 3], (3, 1))\n",
        "\n",
        "print(arr)"
      ],
      "metadata": {
        "colab": {
          "base_uri": "https://localhost:8080/"
        },
        "id": "AnuAm3wtwGHt",
        "outputId": "784bee69-8246-4c3c-9cdc-53b40ab30e29"
      },
      "execution_count": null,
      "outputs": [
        {
          "output_type": "stream",
          "name": "stdout",
          "text": [
            "[[1 2 3]\n",
            " [1 2 3]\n",
            " [1 2 3]]\n"
          ]
        }
      ]
    },
    {
      "cell_type": "code",
      "source": [
        "arr = np.tile([0, 1], 5)\n",
        "\n",
        "print(arr)"
      ],
      "metadata": {
        "colab": {
          "base_uri": "https://localhost:8080/"
        },
        "id": "mrHaEYHow2Fw",
        "outputId": "a43ff0b9-95ca-42f9-89ab-0a990647bbcb"
      },
      "execution_count": null,
      "outputs": [
        {
          "output_type": "stream",
          "name": "stdout",
          "text": [
            "[0 1 0 1 0 1 0 1 0 1]\n"
          ]
        }
      ]
    },
    {
      "cell_type": "code",
      "source": [
        "import numpy as np\n",
        "matrix = np.random.randint(10, 21, size=(3, 3), dtype=np.int32)\n",
        "\n",
        "print(matrix)\n"
      ],
      "metadata": {
        "colab": {
          "base_uri": "https://localhost:8080/"
        },
        "id": "nwHCR0nrttRg",
        "outputId": "e91ca303-c061-45a3-e4d2-08d547159596"
      },
      "execution_count": 2,
      "outputs": [
        {
          "output_type": "stream",
          "name": "stdout",
          "text": [
            "[[12 12 14]\n",
            " [15 20 13]\n",
            " [20 11 19]]\n"
          ]
        }
      ]
    },
    {
      "cell_type": "markdown",
      "source": [
        "# **Array Attributes**\n",
        "\n",
        "####1. Create a NumPy array of shape (4, 5) filled with random integers between 1 and 10. Now use an appropriate attribute of an array and find the following:\n",
        "\n",
        "  1. shape of the array\n",
        "  2. size of the array\n",
        "  3. number of dimensions\n",
        "  4. data type\n",
        "\n",
        "####2. Write a Python function that takes an array as input and returns the number of dimensions (ndim) of the array.\n",
        "Test the function with the following arrays:\n",
        "\n",
        "  1. A 1D array with 5 elements.\n",
        "  2. A 2D array of size (3x4).\n",
        "  3. A 3D array of size (2x3x4).\n",
        "\n",
        "\n",
        "####3. Create a NumPy array with the elements between 1 to 100 and use the dtype attribute to find out the data type of the elements. Modify the program to create arrays with elements of type float and string, and observe the changes in dtype.\n",
        "\n",
        "####4. Write a Python function that:\n",
        "  1. Creates a 6×3 array of integers using NumPy.\n",
        "  2. Prints the shape of the array using the shape attribute.\n",
        "  3. Reshapes the array to 3×6 and prints the new shape.\n",
        "\n",
        "\n",
        "\n",
        "####5. Write a program to:\n",
        "  1. Create an array of any size with all elements being 0 and use the appropriate attribute to print the size (in bytes) of each element in the array.\n",
        "  2. Create an array of any size with elements between 1 to 10 and print the size.\n",
        "  3. Create another array with floating-point numbers of any size and observe how the size changes.\n",
        "\n"
      ],
      "metadata": {
        "id": "DkYcM2eukdxR"
      }
    },
    {
      "cell_type": "code",
      "source": [
        "arr = np.random.randint(1, 11, size=(4, 5))\n",
        "\n",
        "# Find the attributes\n",
        "shape = arr.shape\n",
        "size = arr.size\n",
        "ndim = arr.ndim\n",
        "dtype = arr.dtype\n",
        "\n",
        "# Output the results\n",
        "print(\"Array:\\n\", arr)\n",
        "print(\"Shape:\", shape)\n",
        "print(\"Size:\", size)\n",
        "print(\"Number of Dimensions:\", ndim)\n",
        "print(\"Data Type:\", dtype)"
      ],
      "metadata": {
        "colab": {
          "base_uri": "https://localhost:8080/"
        },
        "id": "PtXfGFFzuBMr",
        "outputId": "c936dda8-e55f-44d9-fb83-80a7e1bac49d"
      },
      "execution_count": 3,
      "outputs": [
        {
          "output_type": "stream",
          "name": "stdout",
          "text": [
            "Array:\n",
            " [[8 1 9 6 3]\n",
            " [4 5 4 2 8]\n",
            " [8 9 8 4 3]\n",
            " [8 6 1 7 7]]\n",
            "Shape: (4, 5)\n",
            "Size: 20\n",
            "Number of Dimensions: 2\n",
            "Data Type: int64\n"
          ]
        }
      ]
    },
    {
      "cell_type": "code",
      "source": [
        "def array_dimensions(arr):\n",
        "    return arr.ndim\n",
        "\n",
        "# Test the function with different arrays\n",
        "\n",
        "# 1D array with 5 elements\n",
        "array_1d = np.array([1, 2, 3, 4, 5])\n",
        "\n",
        "# 2D array of size (3x4)\n",
        "array_2d = np.array([[1, 2, 3, 4], [5, 6, 7, 8], [9, 10, 11, 12]])\n",
        "\n",
        "# 3D array of size (2x3x4)\n",
        "array_3d = np.array([[[1, 2, 3, 4], [5, 6, 7, 8], [9, 10, 11, 12]],\n",
        "                     [[13, 14, 15, 16], [17, 18, 19, 20], [21, 22, 23, 24]]])\n",
        "\n",
        "# Testing the function\n",
        "print(\"Dimensions of array_1d:\", array_dimensions(array_1d))  # Expected: 1\n",
        "print(\"Dimensions of array_2d:\", array_dimensions(array_2d))  # Expected: 2\n",
        "print(\"Dimensions of array_3d:\", array_dimensions(array_3d))"
      ],
      "metadata": {
        "colab": {
          "base_uri": "https://localhost:8080/"
        },
        "id": "Wx_O2odsuErr",
        "outputId": "630acb32-2ba8-47eb-912b-664e0b2945e1"
      },
      "execution_count": 4,
      "outputs": [
        {
          "output_type": "stream",
          "name": "stdout",
          "text": [
            "Dimensions of array_1d: 1\n",
            "Dimensions of array_2d: 2\n",
            "Dimensions of array_3d: 3\n"
          ]
        }
      ]
    },
    {
      "cell_type": "code",
      "source": [
        "arr_int = np.arange(1, 101)\n",
        "\n",
        "# Create an array with float elements between 1 and 100\n",
        "arr_float = np.arange(1, 101, dtype=float)\n",
        "\n",
        "# Create an array with string elements\n",
        "arr_string = np.array([str(i) for i in range(1, 101)])\n",
        "\n",
        "# Output the dtype for each array\n",
        "print(\"Array of integers:\")\n",
        "print(\"Data type:\", arr_int.dtype)\n",
        "\n",
        "print(\"\\nArray of floats:\")\n",
        "print(\"Data type:\", arr_float.dtype)\n",
        "\n",
        "print(\"\\nArray of strings:\")\n",
        "print(\"Data type:\", arr_string.dtype)"
      ],
      "metadata": {
        "colab": {
          "base_uri": "https://localhost:8080/"
        },
        "id": "CCwDTzWhuLWH",
        "outputId": "a653770e-3752-4029-b715-f86b4760fc20"
      },
      "execution_count": 5,
      "outputs": [
        {
          "output_type": "stream",
          "name": "stdout",
          "text": [
            "Array of integers:\n",
            "Data type: int64\n",
            "\n",
            "Array of floats:\n",
            "Data type: float64\n",
            "\n",
            "Array of strings:\n",
            "Data type: <U3\n"
          ]
        }
      ]
    },
    {
      "cell_type": "code",
      "source": [
        "def reshape_array():\n",
        "    # Create a 6x3 array of integers\n",
        "    array = np.arange(18).reshape(6, 3)  # 18 integers, reshaped into 6x3\n",
        "    print(\"Original array shape:\", array.shape)\n",
        "\n",
        "    # Reshape the array to 3x6\n",
        "    reshaped_array = array.reshape(3, 6)\n",
        "    print(\"Reshaped array shape:\", reshaped_array.shape)\n",
        "\n",
        "# Call the function\n",
        "reshape_array()"
      ],
      "metadata": {
        "colab": {
          "base_uri": "https://localhost:8080/"
        },
        "id": "xsjKVuNwuO1A",
        "outputId": "33d6f9c3-fced-40aa-f688-8414f69ca938"
      },
      "execution_count": 6,
      "outputs": [
        {
          "output_type": "stream",
          "name": "stdout",
          "text": [
            "Original array shape: (6, 3)\n",
            "Reshaped array shape: (3, 6)\n"
          ]
        }
      ]
    },
    {
      "cell_type": "code",
      "source": [
        "def array_size_examples():\n",
        "    # Create an array of size 5x5 with all elements being 0\n",
        "    zero_array = np.zeros((5, 5))\n",
        "    print(\"Array with all elements 0 (5x5):\")\n",
        "    print(zero_array)\n",
        "    print(f\"Size of each element in zero_array (in bytes): {zero_array.itemsize}\")\n",
        "\n",
        "    # Create an array of size 5x5 with elements between 1 and 10\n",
        "    random_array = np.random.randint(1, 11, size=(5, 5))\n",
        "    print(\"\\nArray with elements between 1 and 10 (5x5):\")\n",
        "    print(random_array)\n",
        "    print(f\"Size of each element in random_array (in bytes): {random_array.itemsize}\")\n",
        "\n",
        "    # Create an array of size 5x5 with floating-point numbers\n",
        "    float_array = np.random.rand(5, 5)  # Generates random floats between 0 and 1\n",
        "    print(\"\\nArray with floating-point numbers (5x5):\")\n",
        "    print(float_array)\n",
        "    print(f\"Size of each element in float_array (in bytes): {float_array.itemsize}\")\n",
        "\n",
        "# Call the function\n",
        "array_size_examples()"
      ],
      "metadata": {
        "colab": {
          "base_uri": "https://localhost:8080/"
        },
        "id": "ZDz3fg2cuSiv",
        "outputId": "a589eb4e-312d-4c83-ae98-dc776c912fae"
      },
      "execution_count": 7,
      "outputs": [
        {
          "output_type": "stream",
          "name": "stdout",
          "text": [
            "Array with all elements 0 (5x5):\n",
            "[[0. 0. 0. 0. 0.]\n",
            " [0. 0. 0. 0. 0.]\n",
            " [0. 0. 0. 0. 0.]\n",
            " [0. 0. 0. 0. 0.]\n",
            " [0. 0. 0. 0. 0.]]\n",
            "Size of each element in zero_array (in bytes): 8\n",
            "\n",
            "Array with elements between 1 and 10 (5x5):\n",
            "[[ 3  3  6  7  3]\n",
            " [10  8  9  1  5]\n",
            " [ 8  4  4  4  3]\n",
            " [ 7  6  8  5  9]\n",
            " [10  2  9  7  3]]\n",
            "Size of each element in random_array (in bytes): 8\n",
            "\n",
            "Array with floating-point numbers (5x5):\n",
            "[[0.09641287 0.03439861 0.10000487 0.83018496 0.00546493]\n",
            " [0.09464013 0.44644557 0.39876466 0.68601714 0.17090758]\n",
            " [0.44348694 0.45401187 0.14208725 0.56790495 0.28942409]\n",
            " [0.01209092 0.01630787 0.55955751 0.97490318 0.56665209]\n",
            " [0.43256417 0.0081989  0.83344426 0.22037943 0.01389383]]\n",
            "Size of each element in float_array (in bytes): 8\n"
          ]
        }
      ]
    },
    {
      "cell_type": "markdown",
      "source": [
        "# **Sorting and Partioning**\n",
        "\n",
        "####1. Given an array arr, sort the array in ascending order without modifying the original array. Print both the original and sorted arrays.(use np.sort())\n",
        "\n",
        "####2. You have arr = np.array([50, 30, 40, 20]) and names = np.array([\"A\", cc\"B\", \"C\", \"D\"]).\n",
        "Sort the arr values in ascending order and rearrange the names array accordingly.(use np.argsort() to get sorted indices and reorder names)\n",
        "\n",
        "####3. Write code to find the k smallest elements from the array arr. Print these elements in ascending order.(use np.partition())\n",
        "\n",
        "####4. Partition the array arr such that all elements smaller than a particular number(user input) appear before those greater than or equal to that number. Print the partitioned array.(use np.partition() to find the pivot value's index)\n",
        "\n",
        "####5. Sort each row of a 2D array arr in ascending order.(use np.sort() with axis parameter)\n",
        "\n",
        "####6. Print k largest elements of an array arr in descending order.(use np.partition() to find top k elements)\n",
        "\n",
        "####7. Given an array arr(containing possible negative values), sort the array in ascending order based on the absolute values of the elements. Print the sorted array.(use np.argsort() with a custom key for absolute values)\n",
        "\n",
        "####8. Given an array arr, sort only the elements greater than k in ascending order, keeping the other elements in their original positions.(create a mask to find elements greater than k, use np.sort() to sort them then reassign the sorted values back to their original indices in the array)"
      ],
      "metadata": {
        "id": "ItnxYBtVzYiL"
      }
    },
    {
      "cell_type": "code",
      "source": [
        "def sort_array():\n",
        "    # Create a sample array\n",
        "    arr = np.array([5, 2, 9, 1, 5, 6])\n",
        "\n",
        "    # Sort the array using np.sort(), which returns a sorted copy\n",
        "    sorted_arr = np.sort(arr)\n",
        "\n",
        "    # Print the original and sorted arrays\n",
        "    print(\"Original array:\", arr)\n",
        "    print(\"Sorted array:\", sorted_arr)\n",
        "\n",
        "# Call the function\n",
        "sort_array()"
      ],
      "metadata": {
        "colab": {
          "base_uri": "https://localhost:8080/"
        },
        "id": "hgez20RhuW6s",
        "outputId": "afacd9a5-d20b-4bf3-8d2b-3a3af04cf740"
      },
      "execution_count": 8,
      "outputs": [
        {
          "output_type": "stream",
          "name": "stdout",
          "text": [
            "Original array: [5 2 9 1 5 6]\n",
            "Sorted array: [1 2 5 5 6 9]\n"
          ]
        }
      ]
    },
    {
      "cell_type": "code",
      "source": [
        "def sort_and_rearrange():\n",
        "    # Define the arrays\n",
        "    arr = np.array([50, 30, 40, 20])\n",
        "    names = np.array([\"A\", \"B\", \"C\", \"D\"])\n",
        "\n",
        "    # Get the indices that would sort the array arr\n",
        "    sorted_indices = np.argsort(arr)\n",
        "\n",
        "    # Use the sorted indices to rearrange both arr and names\n",
        "    sorted_arr = arr[sorted_indices]\n",
        "    sorted_names = names[sorted_indices]\n",
        "\n",
        "    # Print the sorted arrays\n",
        "    print(\"Original arr:\", arr)\n",
        "    print(\"Original names:\", names)\n",
        "    print(\"Sorted arr:\", sorted_arr)\n",
        "    print(\"Rearranged names:\", sorted_names)\n",
        "\n",
        "# Call the function\n",
        "sort_and_rearrange()"
      ],
      "metadata": {
        "colab": {
          "base_uri": "https://localhost:8080/"
        },
        "id": "IMQRf8skubNr",
        "outputId": "f7646b4e-3ce9-4150-cdbb-9660b05def9e"
      },
      "execution_count": 9,
      "outputs": [
        {
          "output_type": "stream",
          "name": "stdout",
          "text": [
            "Original arr: [50 30 40 20]\n",
            "Original names: ['A' 'B' 'C' 'D']\n",
            "Sorted arr: [20 30 40 50]\n",
            "Rearranged names: ['D' 'B' 'C' 'A']\n"
          ]
        }
      ]
    },
    {
      "cell_type": "code",
      "source": [
        "def k_smallest_elements(arr, k):\n",
        "    # Use np.partition to find the k smallest elements\n",
        "    partitioned_arr = np.partition(arr, k)\n",
        "\n",
        "    # The first k elements in the partitioned array are the k smallest elements\n",
        "    smallest_elements = partitioned_arr[:k]\n",
        "\n",
        "    # Sort the smallest elements to print them in ascending order\n",
        "    sorted_smallest_elements = np.sort(smallest_elements)\n",
        "\n",
        "    # Print the result\n",
        "    print(f\"The {k} smallest elements in ascending order:\", sorted_smallest_elements)\n",
        "\n",
        "# Example usage\n",
        "arr = np.array([50, 30, 40, 20, 10, 70, 60])\n",
        "k = 3\n",
        "k_smallest_elements(arr, k)"
      ],
      "metadata": {
        "colab": {
          "base_uri": "https://localhost:8080/"
        },
        "id": "D5Xs97I4uc9O",
        "outputId": "f443b00a-c985-44e0-d189-81d07f593d25"
      },
      "execution_count": 10,
      "outputs": [
        {
          "output_type": "stream",
          "name": "stdout",
          "text": [
            "The 3 smallest elements in ascending order: [10 20 30]\n"
          ]
        }
      ]
    },
    {
      "cell_type": "code",
      "source": [
        "import numpy as np\n",
        "\n",
        "# Function to partition the array\n",
        "def partition_array(arr, num):\n",
        "    # Using np.partition to get the partitioned array\n",
        "    partitioned_arr = np.partition(arr, np.searchsorted(arr, num))\n",
        "    return partitioned_arr\n",
        "\n",
        "# Example usage\n",
        "arr = np.array([10, 20, 5, 15, 25, 30, 2])\n",
        "pivot = 15  # User input can replace this\n",
        "partitioned_arr = partition_array(arr, pivot)\n",
        "\n",
        "print(\"Original array:\", arr)\n",
        "print(\"Partitioned array:\", partitioned_arr)\n"
      ],
      "metadata": {
        "colab": {
          "base_uri": "https://localhost:8080/"
        },
        "id": "KaDRPgR-vsUl",
        "outputId": "abd0fc9b-b24d-47c8-a6c2-98dca49bd8bd"
      },
      "execution_count": 12,
      "outputs": [
        {
          "output_type": "stream",
          "name": "stdout",
          "text": [
            "Original array: [10 20  5 15 25 30  2]\n",
            "Partitioned array: [ 2  5 20 15 25 30 10]\n"
          ]
        }
      ]
    },
    {
      "cell_type": "code",
      "source": [
        "def sort_rows(arr):\n",
        "    # Sort each row of the 2D array in ascending order\n",
        "    sorted_arr = np.sort(arr, axis=1)\n",
        "\n",
        "    # Print the sorted 2D array\n",
        "    print(\"Array with each row sorted in ascending order:\")\n",
        "    print(sorted_arr)\n",
        "\n",
        "# Example usage\n",
        "arr = np.array([[50, 30, 40, 20],\n",
        "                [10, 70, 60, 90],\n",
        "                [80, 10, 20, 30]])\n",
        "\n",
        "sort_rows(arr)"
      ],
      "metadata": {
        "colab": {
          "base_uri": "https://localhost:8080/"
        },
        "id": "4qNi75URv1MX",
        "outputId": "631e599f-5bea-4d2f-db1b-4e85a4382176"
      },
      "execution_count": 13,
      "outputs": [
        {
          "output_type": "stream",
          "name": "stdout",
          "text": [
            "Array with each row sorted in ascending order:\n",
            "[[20 30 40 50]\n",
            " [10 60 70 90]\n",
            " [10 20 30 80]]\n"
          ]
        }
      ]
    },
    {
      "cell_type": "code",
      "source": [
        "def k_largest_elements(arr, k):\n",
        "    # Use np.partition to partition the array, with the k largest elements in the last k positions\n",
        "    partitioned_arr = np.partition(arr, -k)\n",
        "\n",
        "    # Extract the top k elements and sort them in descending order\n",
        "    largest_elements = partitioned_arr[-k:]\n",
        "    sorted_largest_elements = np.sort(largest_elements)[::-1]  # Sort in descending order\n",
        "\n",
        "    # Print the result\n",
        "    print(f\"The {k} largest elements in descending order:\", sorted_largest_elements)\n",
        "\n",
        "# Example usage\n",
        "arr = np.array([50, 30, 40, 20, 10, 70, 60])\n",
        "k = 3\n",
        "k_largest_elements(arr, k)"
      ],
      "metadata": {
        "colab": {
          "base_uri": "https://localhost:8080/"
        },
        "id": "U1iC9MzAv4Yr",
        "outputId": "db4287ee-0bb5-49d1-d622-805a12d41abc"
      },
      "execution_count": 14,
      "outputs": [
        {
          "output_type": "stream",
          "name": "stdout",
          "text": [
            "The 3 largest elements in descending order: [70 60 50]\n"
          ]
        }
      ]
    },
    {
      "cell_type": "code",
      "source": [
        "def sort_by_absolute_values(arr):\n",
        "    # Use np.argsort with a custom key for absolute values\n",
        "    sorted_indices = np.argsort(np.abs(arr))\n",
        "\n",
        "    # Use the sorted indices to rearrange the array\n",
        "    sorted_arr = arr[sorted_indices]\n",
        "\n",
        "    # Print the sorted array\n",
        "    print(\"Array sorted by absolute values:\", sorted_arr)\n",
        "\n",
        "# Example usage\n",
        "arr = np.array([50, -30, 40, -20, 10, -70, 60])\n",
        "sort_by_absolute_values(arr)"
      ],
      "metadata": {
        "colab": {
          "base_uri": "https://localhost:8080/"
        },
        "id": "Py_X1Kb5v7di",
        "outputId": "d2b78b07-38ae-4cbd-8845-1e71b5fe49ce"
      },
      "execution_count": 15,
      "outputs": [
        {
          "output_type": "stream",
          "name": "stdout",
          "text": [
            "Array sorted by absolute values: [ 10 -20 -30  40  50  60 -70]\n"
          ]
        }
      ]
    },
    {
      "cell_type": "code",
      "source": [
        "def sort_elements_greater_than_k(arr, k):\n",
        "    # Create a mask identifying elements greater than k\n",
        "    mask = arr > k\n",
        "\n",
        "    # Extract the elements greater than k\n",
        "    elements_to_sort = arr[mask]\n",
        "\n",
        "    # Sort the extracted elements in ascending order\n",
        "    sorted_elements = np.sort(elements_to_sort)\n",
        "\n",
        "    # Reassign the sorted elements back to their original indices in the array\n",
        "    arr[mask] = sorted_elements\n",
        "\n",
        "    # Print the modified array\n",
        "    print(\"Array after sorting elements greater than k:\", arr)\n",
        "\n",
        "# Example usage\n",
        "arr = np.array([50, 30, 40, 20, 10, 70, 60])\n",
        "k = 30\n",
        "sort_elements_greater_than_k(arr, k)"
      ],
      "metadata": {
        "colab": {
          "base_uri": "https://localhost:8080/"
        },
        "id": "Jb3UHksrv_L0",
        "outputId": "fe5c67e7-c7f0-4b8c-c70e-1b503094612d"
      },
      "execution_count": 16,
      "outputs": [
        {
          "output_type": "stream",
          "name": "stdout",
          "text": [
            "Array after sorting elements greater than k: [40 30 50 20 10 60 70]\n"
          ]
        }
      ]
    },
    {
      "cell_type": "markdown",
      "source": [
        "# **Indexing and slicing**"
      ],
      "metadata": {
        "id": "gPghNT4V8CFw"
      }
    },
    {
      "cell_type": "markdown",
      "source": [
        "#### 1. 2D Array Indexing\n",
        "Consider the following 2D array:\n",
        "`arr_2d = np.array([[5, 10, 15], [20, 25, 30], [35, 40, 45]])`\n",
        "- Access the element at row index 1 and column index 2.\n",
        "- Extract the first row.\n",
        "- Extract the last column."
      ],
      "metadata": {
        "id": "O9CJs-Un8X3_"
      }
    },
    {
      "cell_type": "markdown",
      "source": [
        "#### 2. Boolean Indexing\n",
        "Given an array `arr = np.array([2, 5, 8, 11, 14, 17, 20])`, use boolean indexing to:\n",
        "- Extract all values greater than 10.\n",
        "- Replace all values greater than 15 with -1."
      ],
      "metadata": {
        "id": "aXGnlXAo8ai8"
      }
    },
    {
      "cell_type": "markdown",
      "source": [
        "#### 3. Fancy Indexing\n",
        "Using the 2D array `arr_2d = np.array([[5, 10, 15], [20, 25, 30], [35, 40, 45]])`, write code to:\n",
        "\n",
        "- Select the elements at positions (0,2), (1,1), and (2,0).\n",
        "- Use fancy indexing to create a submatrix with rows 0 and 2, and columns 1 and 2.\n",
        "\n",
        "- **Hint:**\n",
        " - For 1st part, use arrays of row and column indices\n",
        " - For 2nd part, you can create a submatrix using fancy indexing by using np.newaxis to match the dimensions\n"
      ],
      "metadata": {
        "id": "cSMQOL_78dGJ"
      }
    },
    {
      "cell_type": "markdown",
      "source": [
        "#### 4. Slicing 1D array\n",
        "Given the array `arr = np.array([1, 3, 5, 7, 9, 11, 13, 15])`, write code to:\n",
        "\n",
        "- Extract the first 4 elements.\n",
        "- Extract every second element from the entire array.\n",
        "- Extract elements from index 2 to the end, stepping by 2."
      ],
      "metadata": {
        "id": "neMikU6N8fdJ"
      }
    },
    {
      "cell_type": "markdown",
      "source": [
        "#### 5. Slicing a 2D Array\n",
        "Given the following 2D array:\n",
        "`arr_2d = np.array([[10, 20, 30, 40], [50, 60, 70, 80], [90, 100, 110, 120]])`\n",
        "- Slice and print the last two columns of 1st row.\n",
        "- Slice and print the last row, reversed."
      ],
      "metadata": {
        "id": "QnTy4Zj98h4I"
      }
    },
    {
      "cell_type": "markdown",
      "source": [
        "#### 6. Handling Out-of-Range Indices in Slicing vs. Indexing\n",
        "Given the array:\n",
        "`arr = np.array([10, 20, 30, 40, 50])`\n",
        "\n",
        "\n",
        "- What will be the output of the following slicing operations? Explain why they work, even though some indices are out of range.\n",
        " - print(arr[2:10])  \n",
        " - print(arr[-10:3])    \n",
        "\n",
        "- Compare the behavior of slicing to accessing a single element with an out-of-range index (e.g., arr[10]). Why does slicing not raise an error in these cases, but indexing does?"
      ],
      "metadata": {
        "id": "DWgodK9V8kVv"
      }
    },
    {
      "cell_type": "markdown",
      "source": [
        "#### 7.  Work with an Audio File\n",
        "\n",
        "Download the audio file from the following link: Simple Logo - Pixabay. Load the audio file using pydub and complete the following tasks:\n",
        "\n",
        "- Extract the first second of the audio and plot its waveform.\n",
        "   - Hint: Use the frame rate to calculate how many samples are in 1 second, and use slicing to extract this part.\n",
        "\n",
        "-   Extract the last second of the audio and plot its waveform.\n",
        "  \n",
        "\n",
        "-  Combine the samples from the first second and the last second into a new array and plot the combined waveform.\n",
        " - Hint: Use NumPy’s np.concatenate() function to merge the two slices."
      ],
      "metadata": {
        "id": "xDOOiJe7r_Vx"
      }
    },
    {
      "cell_type": "code",
      "source": [
        "import numpy as np\n",
        "ar_2d=np.array([[5,10,15],[20,25,30],[35,40,45]])\n",
        "element_row1_col2= ar_2d[1,2]\n",
        "first_row=ar_2d[0,:]\n",
        "last_column=ar_2d[:,-1]\n",
        "print(element_row1_col2)\n",
        "print(first_row)\n",
        "print(last_column)"
      ],
      "metadata": {
        "id": "AGh9ickRrYcV",
        "colab": {
          "base_uri": "https://localhost:8080/"
        },
        "outputId": "07453d98-53c1-4a30-80b2-281dfdd1d1eb"
      },
      "execution_count": null,
      "outputs": [
        {
          "output_type": "stream",
          "name": "stdout",
          "text": [
            "30\n",
            "[ 5 10 15]\n",
            "[15 30 45]\n"
          ]
        }
      ]
    },
    {
      "cell_type": "code",
      "source": [
        "import numpy as np\n",
        "\n",
        "# Define the array\n",
        "arr = np.array([2, 5, 8, 11, 14, 17, 20])\n",
        "\n",
        "# Extract all values greater than 10\n",
        "values_greater_than_10 = arr[arr > 10]\n",
        "\n",
        "# Replace all values greater than 15 with -1\n",
        "arr[arr > 15] = -1\n",
        "\n",
        "values_greater_than_10, arr"
      ],
      "metadata": {
        "colab": {
          "base_uri": "https://localhost:8080/"
        },
        "id": "H2zXzUCGwOXe",
        "outputId": "f4a497e7-c68f-443b-c9dd-8579b2917056"
      },
      "execution_count": 17,
      "outputs": [
        {
          "output_type": "execute_result",
          "data": {
            "text/plain": [
              "(array([11, 14, 17, 20]), array([ 2,  5,  8, 11, 14, -1, -1]))"
            ]
          },
          "metadata": {},
          "execution_count": 17
        }
      ]
    },
    {
      "cell_type": "code",
      "source": [
        "# Define the 2D array\n",
        "arr_2d = np.array([[5, 10, 15], [20, 25, 30], [35, 40, 45]])\n",
        "\n",
        "# Select elements at positions (0,2), (1,1), and (2,0)\n",
        "selected_elements = arr_2d[[0, 1, 2], [2, 1, 0]]\n",
        "\n",
        "# Create a submatrix with rows 0 and 2, and columns 1 and 2 using fancy indexing\n",
        "submatrix = arr_2d[np.array([0, 2])[:, np.newaxis], np.array([1, 2])]\n",
        "\n",
        "selected_elements, submatrix\n"
      ],
      "metadata": {
        "colab": {
          "base_uri": "https://localhost:8080/"
        },
        "id": "Gx_A8dX4wV6b",
        "outputId": "8d75afe4-77e3-4705-9e72-058ab0a886c9"
      },
      "execution_count": 18,
      "outputs": [
        {
          "output_type": "execute_result",
          "data": {
            "text/plain": [
              "(array([15, 25, 35]),\n",
              " array([[10, 15],\n",
              "        [40, 45]]))"
            ]
          },
          "metadata": {},
          "execution_count": 18
        }
      ]
    },
    {
      "cell_type": "code",
      "source": [
        "import numpy as np\n",
        "\n",
        "# Define the 1D array\n",
        "arr = np.array([1, 3, 5, 7, 9, 11, 13, 15])\n",
        "\n",
        "# Extract the first 4 elements\n",
        "first_four_elements = arr[:4]\n",
        "\n",
        "# Extract every second element from the entire array\n",
        "every_second_element = arr[::2]\n",
        "\n",
        "# Extract elements from index 2 to the end, stepping by 2\n",
        "elements_from_index2_step2 = arr[2::2]\n",
        "\n",
        "first_four_elements, every_second_element, elements_from_index2_step2\n"
      ],
      "metadata": {
        "colab": {
          "base_uri": "https://localhost:8080/"
        },
        "id": "cXiYztFKwZjE",
        "outputId": "8f86032f-04a1-4cc7-917f-d1c9f80612bf"
      },
      "execution_count": 19,
      "outputs": [
        {
          "output_type": "execute_result",
          "data": {
            "text/plain": [
              "(array([1, 3, 5, 7]), array([ 1,  5,  9, 13]), array([ 5,  9, 13]))"
            ]
          },
          "metadata": {},
          "execution_count": 19
        }
      ]
    },
    {
      "cell_type": "code",
      "source": [
        "import numpy as np\n",
        "\n",
        "# Define the 2D array\n",
        "arr_2d = np.array([[10, 20, 30, 40], [50, 60, 70, 80], [90, 100, 110, 120]])\n",
        "\n",
        "# Slice and print the last two columns of the 1st row\n",
        "last_two_columns_first_row = arr_2d[0, -2:]\n",
        "\n",
        "# Slice and print the last row, reversed\n",
        "last_row_reversed = arr_2d[-1, ::-1]\n",
        "\n",
        "last_two_columns_first_row, last_row_reversed\n"
      ],
      "metadata": {
        "colab": {
          "base_uri": "https://localhost:8080/"
        },
        "id": "mFZycimkwcin",
        "outputId": "80a09710-a940-4541-cf97-428ee6d8db00"
      },
      "execution_count": 20,
      "outputs": [
        {
          "output_type": "execute_result",
          "data": {
            "text/plain": [
              "(array([30, 40]), array([120, 110, 100,  90]))"
            ]
          },
          "metadata": {},
          "execution_count": 20
        }
      ]
    },
    {
      "cell_type": "code",
      "source": [
        "[30,40,50] because it simply goes as far as possible up to the end of the array.\n",
        "\n",
        "[10,20,30] The start index -10 is much smaller than the minimum index, but in slicing, negative indices wrap around to the start of the array. However, since -10 is smaller than the array length, it starts at index 0.\n",
        "\n",
        "For code arr[10] it gives \"INDEX ERROR\" because there is no element in this index as it is out of range ( while accessing a single element with out of range, NumPy checks whether the index is valid )\n",
        "\n",
        "For code arr[7:10], NumPy tries to extract a range of elements. If the stop index is out of range, it stops at the end of the array without raising an error."
      ],
      "metadata": {
        "id": "-zAh6VQfweEz"
      },
      "execution_count": null,
      "outputs": []
    },
    {
      "cell_type": "code",
      "source": [],
      "metadata": {
        "id": "jd5YoOa5wne2"
      },
      "execution_count": null,
      "outputs": []
    },
    {
      "cell_type": "markdown",
      "source": [
        "# **Reshaping in NumPy**\n"
      ],
      "metadata": {
        "id": "bRFENqbOGX1X"
      }
    },
    {
      "cell_type": "markdown",
      "source": [
        "####1. Create a 2D array of shape (3, 5). Flatten it into a 1D array and then reshape it back into a (5, 3) array.\n",
        "\n",
        "####2. Create a 1D array\n",
        "```\n",
        "arr = np.array([1, 2, 3, 4, 5])\n",
        "```\n",
        "####Reshape arr into (5,1), then convert to (5,) and then convert it into (1,5).\n",
        "\n",
        "\n",
        "####3. Create a 1D NumPy array with values ranging from 1 to 100. Reshape it into a (10, 10) matrix. Apply '.ravel()' and '.flatten()' on the matrix and modify the original matrix. Compare the outputs of both methods and explain the difference in memory sharing.\n",
        "\n",
        "\n",
        "####4. Generate a 5x5 NumPy matrix representing pixel intensities from an image. Use slicing to extract the central 3x3 section of the matrix and flatten it. How does reshaping impact the spatial relationships of the pixels?\n",
        "\n",
        "\n",
        "####5. Create a 3-channel RGB image as a NumPy array of shape (3, 4, 4) with random integer values between 0 and 255. Flatten the image using '.reshape()' and reshape it back to its original shape. Explain the order of pixel data stored and how reshaping affects the channel structure.\n",
        "\n"
      ],
      "metadata": {
        "id": "Gv2cCyxAdS3Q"
      }
    },
    {
      "cell_type": "code",
      "source": [
        "import numpy as np\n",
        "\n",
        "# Step 1: Create a 2D array of shape (3, 5)\n",
        "array_2d = np.array([[1, 2, 3, 4, 5],\n",
        "                     [6, 7, 8, 9, 10],\n",
        "                     [11, 12, 13, 14, 15]])\n",
        "\n",
        "print(\"Original 2D array (3, 5):\")\n",
        "print(array_2d)\n",
        "\n",
        "# Step 2: Flatten the 2D array into a 1D array\n",
        "array_1d = array_2d.flatten()\n",
        "print(\"\\nFlattened 1D array:\")\n",
        "print(array_1d)\n",
        "\n",
        "# Step 3: Reshape the 1D array back into a (5, 3) array\n",
        "array_reshaped = array_1d.reshape((5, 3))\n",
        "print(\"\\nReshaped array (5, 3):\")\n",
        "print(array_reshaped)\n"
      ],
      "metadata": {
        "colab": {
          "base_uri": "https://localhost:8080/"
        },
        "id": "L9WB031uxuVi",
        "outputId": "d8f3f084-ffd2-47f9-86bb-3c55e4af01b3"
      },
      "execution_count": 26,
      "outputs": [
        {
          "output_type": "stream",
          "name": "stdout",
          "text": [
            "Original 2D array (3, 5):\n",
            "[[ 1  2  3  4  5]\n",
            " [ 6  7  8  9 10]\n",
            " [11 12 13 14 15]]\n",
            "\n",
            "Flattened 1D array:\n",
            "[ 1  2  3  4  5  6  7  8  9 10 11 12 13 14 15]\n",
            "\n",
            "Reshaped array (5, 3):\n",
            "[[ 1  2  3]\n",
            " [ 4  5  6]\n",
            " [ 7  8  9]\n",
            " [10 11 12]\n",
            " [13 14 15]]\n"
          ]
        }
      ]
    },
    {
      "cell_type": "code",
      "source": [
        "import numpy as np\n",
        "\n",
        "# Step 1: Create a 1D array\n",
        "arr = np.array([1, 2, 3, 4, 5])\n",
        "print(\"Original 1D array (5,):\")\n",
        "print(arr)\n",
        "\n",
        "# Step 2: Reshape into (5, 1)\n",
        "arr_reshaped_5_1 = arr.reshape((5, 1))\n",
        "print(\"\\nReshaped array (5, 1):\")\n",
        "print(arr_reshaped_5_1)\n",
        "\n",
        "# Step 3: Convert back to (5,)\n",
        "arr_flattened = arr_reshaped_5_1.reshape((5,))\n",
        "print(\"\\nFlattened back to (5,):\")\n",
        "print(arr_flattened)\n",
        "\n",
        "# Step 4: Reshape into (1, 5)\n",
        "arr_reshaped_1_5 = arr_flattened.reshape((1, 5))\n",
        "print(\"\\nReshaped array (1, 5):\")\n",
        "print(arr_reshaped_1_5)\n"
      ],
      "metadata": {
        "colab": {
          "base_uri": "https://localhost:8080/"
        },
        "id": "Y1zaX_-Qx3Zd",
        "outputId": "f337c72a-6e67-415f-dc75-cfb0ab1eb332"
      },
      "execution_count": 27,
      "outputs": [
        {
          "output_type": "stream",
          "name": "stdout",
          "text": [
            "Original 1D array (5,):\n",
            "[1 2 3 4 5]\n",
            "\n",
            "Reshaped array (5, 1):\n",
            "[[1]\n",
            " [2]\n",
            " [3]\n",
            " [4]\n",
            " [5]]\n",
            "\n",
            "Flattened back to (5,):\n",
            "[1 2 3 4 5]\n",
            "\n",
            "Reshaped array (1, 5):\n",
            "[[1 2 3 4 5]]\n"
          ]
        }
      ]
    },
    {
      "cell_type": "code",
      "source": [
        "import numpy as np\n",
        "\n",
        "# Step 1: Create a 1D array with values from 1 to 100\n",
        "arr = np.arange(1, 101)\n",
        "print(\"Original 1D array:\")\n",
        "print(arr)\n",
        "\n",
        "# Step 2: Reshape into a (10, 10) matrix\n",
        "matrix = arr.reshape((10, 10))\n",
        "print(\"\\nReshaped (10, 10) matrix:\")\n",
        "print(matrix)\n",
        "\n",
        "# Step 3: Apply .ravel() and .flatten()\n",
        "ravel_output = matrix.ravel()\n",
        "flatten_output = matrix.flatten()\n",
        "\n",
        "# Step 4: Modify the original matrix\n",
        "matrix[0, 0] = 999\n",
        "print(\"\\nModified original matrix:\")\n",
        "print(matrix)\n",
        "\n",
        "# Step 5: Compare ravel and flatten outputs after modification\n",
        "print(\"\\nRavel output after modification (shares memory with original matrix):\")\n",
        "print(ravel_output)\n",
        "\n",
        "print(\"\\nFlatten output after modification (does not share memory with original matrix):\")\n",
        "print(flatten_output)\n"
      ],
      "metadata": {
        "colab": {
          "base_uri": "https://localhost:8080/"
        },
        "id": "edL2N1zIyCib",
        "outputId": "6eb58551-9471-42c7-d622-c8b2d634fe42"
      },
      "execution_count": 28,
      "outputs": [
        {
          "output_type": "stream",
          "name": "stdout",
          "text": [
            "Original 1D array:\n",
            "[  1   2   3   4   5   6   7   8   9  10  11  12  13  14  15  16  17  18\n",
            "  19  20  21  22  23  24  25  26  27  28  29  30  31  32  33  34  35  36\n",
            "  37  38  39  40  41  42  43  44  45  46  47  48  49  50  51  52  53  54\n",
            "  55  56  57  58  59  60  61  62  63  64  65  66  67  68  69  70  71  72\n",
            "  73  74  75  76  77  78  79  80  81  82  83  84  85  86  87  88  89  90\n",
            "  91  92  93  94  95  96  97  98  99 100]\n",
            "\n",
            "Reshaped (10, 10) matrix:\n",
            "[[  1   2   3   4   5   6   7   8   9  10]\n",
            " [ 11  12  13  14  15  16  17  18  19  20]\n",
            " [ 21  22  23  24  25  26  27  28  29  30]\n",
            " [ 31  32  33  34  35  36  37  38  39  40]\n",
            " [ 41  42  43  44  45  46  47  48  49  50]\n",
            " [ 51  52  53  54  55  56  57  58  59  60]\n",
            " [ 61  62  63  64  65  66  67  68  69  70]\n",
            " [ 71  72  73  74  75  76  77  78  79  80]\n",
            " [ 81  82  83  84  85  86  87  88  89  90]\n",
            " [ 91  92  93  94  95  96  97  98  99 100]]\n",
            "\n",
            "Modified original matrix:\n",
            "[[999   2   3   4   5   6   7   8   9  10]\n",
            " [ 11  12  13  14  15  16  17  18  19  20]\n",
            " [ 21  22  23  24  25  26  27  28  29  30]\n",
            " [ 31  32  33  34  35  36  37  38  39  40]\n",
            " [ 41  42  43  44  45  46  47  48  49  50]\n",
            " [ 51  52  53  54  55  56  57  58  59  60]\n",
            " [ 61  62  63  64  65  66  67  68  69  70]\n",
            " [ 71  72  73  74  75  76  77  78  79  80]\n",
            " [ 81  82  83  84  85  86  87  88  89  90]\n",
            " [ 91  92  93  94  95  96  97  98  99 100]]\n",
            "\n",
            "Ravel output after modification (shares memory with original matrix):\n",
            "[999   2   3   4   5   6   7   8   9  10  11  12  13  14  15  16  17  18\n",
            "  19  20  21  22  23  24  25  26  27  28  29  30  31  32  33  34  35  36\n",
            "  37  38  39  40  41  42  43  44  45  46  47  48  49  50  51  52  53  54\n",
            "  55  56  57  58  59  60  61  62  63  64  65  66  67  68  69  70  71  72\n",
            "  73  74  75  76  77  78  79  80  81  82  83  84  85  86  87  88  89  90\n",
            "  91  92  93  94  95  96  97  98  99 100]\n",
            "\n",
            "Flatten output after modification (does not share memory with original matrix):\n",
            "[  1   2   3   4   5   6   7   8   9  10  11  12  13  14  15  16  17  18\n",
            "  19  20  21  22  23  24  25  26  27  28  29  30  31  32  33  34  35  36\n",
            "  37  38  39  40  41  42  43  44  45  46  47  48  49  50  51  52  53  54\n",
            "  55  56  57  58  59  60  61  62  63  64  65  66  67  68  69  70  71  72\n",
            "  73  74  75  76  77  78  79  80  81  82  83  84  85  86  87  88  89  90\n",
            "  91  92  93  94  95  96  97  98  99 100]\n"
          ]
        }
      ]
    },
    {
      "cell_type": "code",
      "source": [
        "import numpy as np\n",
        "\n",
        "# Step 1: Generate a 5x5 matrix representing pixel intensities\n",
        "image_matrix = np.array([[10, 20, 30, 40, 50],\n",
        "                         [60, 70, 80, 90, 100],\n",
        "                         [110, 120, 130, 140, 150],\n",
        "                         [160, 170, 180, 190, 200],\n",
        "                         [210, 220, 230, 240, 250]])\n",
        "\n",
        "print(\"Original 5x5 matrix:\")\n",
        "print(image_matrix)\n",
        "\n",
        "# Step 2: Extract the central 3x3 section\n",
        "central_section = image_matrix[1:4, 1:4]\n",
        "print(\"\\nCentral 3x3 section:\")\n",
        "print(central_section)\n",
        "\n",
        "# Step 3: Flatten the central 3x3 section\n",
        "flattened_central_section = central_section.flatten()\n",
        "print(\"\\nFlattened central 3x3 section:\")\n",
        "print(flattened_central_section)\n"
      ],
      "metadata": {
        "colab": {
          "base_uri": "https://localhost:8080/"
        },
        "id": "O0QUTB8uyOYc",
        "outputId": "6a86d4af-39c4-4fc7-8374-f0f654183ab6"
      },
      "execution_count": 29,
      "outputs": [
        {
          "output_type": "stream",
          "name": "stdout",
          "text": [
            "Original 5x5 matrix:\n",
            "[[ 10  20  30  40  50]\n",
            " [ 60  70  80  90 100]\n",
            " [110 120 130 140 150]\n",
            " [160 170 180 190 200]\n",
            " [210 220 230 240 250]]\n",
            "\n",
            "Central 3x3 section:\n",
            "[[ 70  80  90]\n",
            " [120 130 140]\n",
            " [170 180 190]]\n",
            "\n",
            "Flattened central 3x3 section:\n",
            "[ 70  80  90 120 130 140 170 180 190]\n"
          ]
        }
      ]
    },
    {
      "cell_type": "code",
      "source": [
        "import numpy as np\n",
        "\n",
        "# Step 1: Create a 3-channel RGB image as a NumPy array of shape (3, 4, 4)\n",
        "np.random.seed(0)  # For reproducibility\n",
        "rgb_image = np.random.randint(0, 256, (3, 4, 4), dtype=np.uint8)\n",
        "print(\"Original 3-channel RGB image (3, 4, 4):\")\n",
        "print(rgb_image)\n",
        "\n",
        "# Step 2: Flatten the image using .reshape()\n",
        "flattened_image = rgb_image.reshape(-1)\n",
        "print(\"\\nFlattened image:\")\n",
        "print(flattened_image)\n",
        "\n",
        "# Step 3: Reshape it back to its original shape\n",
        "reshaped_image = flattened_image.reshape(3, 4, 4)\n",
        "print(\"\\nReshaped image back to (3, 4, 4):\")\n",
        "print(reshaped_image)\n"
      ],
      "metadata": {
        "colab": {
          "base_uri": "https://localhost:8080/"
        },
        "id": "xQS3Jix-yal-",
        "outputId": "2a2950aa-4ff4-456f-844b-c2aab27caf82"
      },
      "execution_count": 30,
      "outputs": [
        {
          "output_type": "stream",
          "name": "stdout",
          "text": [
            "Original 3-channel RGB image (3, 4, 4):\n",
            "[[[172  10 127 140]\n",
            "  [ 47 170 196 151]\n",
            "  [117 166  22 183]\n",
            "  [192 204  33 216]]\n",
            "\n",
            " [[ 67 179  78 154]\n",
            "  [251  82 162 219]\n",
            "  [195 118 125 139]\n",
            "  [103 125 229 216]]\n",
            "\n",
            " [[  9 164 116 108]\n",
            "  [211 222 161 159]\n",
            "  [ 21  81  89 165]\n",
            "  [242 214 102  98]]]\n",
            "\n",
            "Flattened image:\n",
            "[172  10 127 140  47 170 196 151 117 166  22 183 192 204  33 216  67 179\n",
            "  78 154 251  82 162 219 195 118 125 139 103 125 229 216   9 164 116 108\n",
            " 211 222 161 159  21  81  89 165 242 214 102  98]\n",
            "\n",
            "Reshaped image back to (3, 4, 4):\n",
            "[[[172  10 127 140]\n",
            "  [ 47 170 196 151]\n",
            "  [117 166  22 183]\n",
            "  [192 204  33 216]]\n",
            "\n",
            " [[ 67 179  78 154]\n",
            "  [251  82 162 219]\n",
            "  [195 118 125 139]\n",
            "  [103 125 229 216]]\n",
            "\n",
            " [[  9 164 116 108]\n",
            "  [211 222 161 159]\n",
            "  [ 21  81  89 165]\n",
            "  [242 214 102  98]]]\n"
          ]
        }
      ]
    },
    {
      "cell_type": "markdown",
      "source": [
        "# **Universal Functions**\n",
        "\n",
        "Q1) Given an array x = [1, 4, 9, 16, 25], compute the square root of each element in the array and print the result.\n",
        "\n",
        "Q2) Create an array angles =[0, $\\frac{\\pi}{2}$, $\\pi$, $\\frac{3\\pi}{2}$]\n",
        ", calculate the sine of each angle and print the result.\n",
        "\n",
        "\n",
        "\n",
        "Q3) Given two arrays a =[True, False, True] and b = [False, False, True], perform an element-wise logical AND operation and print the result.\n",
        "\n",
        "Q4) Create two arrays x = [1, 2, 3, 4] and y = [2, 2, 3, 5], perform an element-wise comparison (x < y) and print the result.\n",
        "\n",
        "Q5) Create an array x =[-2, -1, 0, 1, 2, 3, 4], compute the following element-wise operation:\n",
        "\n",
        "* If an element is negative, square it.\n",
        "* If an element is non-negative, compute its exponential.\n",
        "Print the resulting array."
      ],
      "metadata": {
        "id": "6N9gUypIpV_H"
      }
    },
    {
      "cell_type": "code",
      "source": [
        "x=np.array([1,4,9,16,25])\n",
        "x**(1/2)"
      ],
      "metadata": {
        "colab": {
          "base_uri": "https://localhost:8080/"
        },
        "id": "Jm5KDHdbw0ML",
        "outputId": "1230f11e-49cf-480f-f58c-dcf8638f8505"
      },
      "execution_count": 21,
      "outputs": [
        {
          "output_type": "execute_result",
          "data": {
            "text/plain": [
              "array([1., 2., 3., 4., 5.])"
            ]
          },
          "metadata": {},
          "execution_count": 21
        }
      ]
    },
    {
      "cell_type": "code",
      "source": [
        "import numpy as np\n",
        "\n",
        "# Define the array of angles\n",
        "angles = np.array([0, np.pi/2, np.pi, 3*np.pi/2])\n",
        "\n",
        "# Compute the sine of each angle\n",
        "sine_values = np.sin(angles)\n",
        "\n",
        "# Print the result\n",
        "print(sine_values)"
      ],
      "metadata": {
        "colab": {
          "base_uri": "https://localhost:8080/"
        },
        "id": "Staiv1G6w3FK",
        "outputId": "5877cda9-a328-4a6c-b4d9-f16b707fc6a6"
      },
      "execution_count": 22,
      "outputs": [
        {
          "output_type": "stream",
          "name": "stdout",
          "text": [
            "[ 0.0000000e+00  1.0000000e+00  1.2246468e-16 -1.0000000e+00]\n"
          ]
        }
      ]
    },
    {
      "cell_type": "code",
      "source": [
        "a= np.array([True,False,True])\n",
        "b= np.array([False, False, True])\n",
        "c=a&b\n",
        "print(c)"
      ],
      "metadata": {
        "colab": {
          "base_uri": "https://localhost:8080/"
        },
        "id": "MkDT_882w8qL",
        "outputId": "eaf144fb-cb09-4d3b-9077-5639416cf519"
      },
      "execution_count": 23,
      "outputs": [
        {
          "output_type": "stream",
          "name": "stdout",
          "text": [
            "[False False  True]\n"
          ]
        }
      ]
    },
    {
      "cell_type": "code",
      "source": [
        "x= np.array([1, 2, 3, 4])\n",
        "y=np.array([2, 2, 3, 5])\n",
        "z=x < y\n",
        "z"
      ],
      "metadata": {
        "colab": {
          "base_uri": "https://localhost:8080/"
        },
        "id": "N8SURBwLxACI",
        "outputId": "65657a57-ce10-4f98-ce19-c3db13385379"
      },
      "execution_count": 24,
      "outputs": [
        {
          "output_type": "execute_result",
          "data": {
            "text/plain": [
              "array([ True, False, False,  True])"
            ]
          },
          "metadata": {},
          "execution_count": 24
        }
      ]
    },
    {
      "cell_type": "code",
      "source": [
        "import numpy as np\n",
        "\n",
        "# Given array\n",
        "x = np.array([-2, -1, 0, 1, 2, 3, 4])\n",
        "\n",
        "# Compute the operation based on the condition\n",
        "result = np.where(x < 0, x**2, np.exp(x))\n",
        "\n",
        "# Print the resulting array\n",
        "print(result)\n"
      ],
      "metadata": {
        "colab": {
          "base_uri": "https://localhost:8080/"
        },
        "id": "GCifyubFxDiX",
        "outputId": "12287a69-deb3-4759-f68e-b98990f9ccfa"
      },
      "execution_count": 25,
      "outputs": [
        {
          "output_type": "stream",
          "name": "stdout",
          "text": [
            "[ 4.          1.          1.          2.71828183  7.3890561  20.08553692\n",
            " 54.59815003]\n"
          ]
        }
      ]
    },
    {
      "cell_type": "markdown",
      "source": [
        "# **Aggregations**\n",
        "\n",
        "####1. Generate a random array of size 10.\n",
        " calculate the following:\n",
        "- Print the array\n",
        "- The sum of all elements.\n",
        "- The mean of the array.\n",
        "- The standard deviation.\n",
        "- Find 5$*$Minimum -3$*$Maximum\n",
        "\n",
        "####2. Generate a 4x5 matrix with random integers between 1 and 50.\n",
        "- Print the matrix.\n",
        "- Compute the mean of all elements in the matrix.\n",
        "- Compute the sum of each row in the matrix.\n",
        "\n",
        "####3. Generate a random 3x3 matrix with random integers between 1 to 10\n",
        "- Find the minimum value in each column and store it in a separate list min.\n",
        "- Find the maximum value in each row and store it in a separate list max.\n",
        "- Find the value of minimum of list max - maximum of list min.\n",
        "\n",
        "####4. Given the array : data = np.array([15, 25, 35, 45, 55, 65]):\n",
        "- Find the minimum value.\n",
        "- Subtract this minimum value from all elements of the array and then calculate the mean of the resulting array.\n",
        "\n",
        "####5. Given the array : arr = np.array([3, 5, 7, 9, 11]):\n",
        "- Compute the cumulative sum of the elements.\n",
        "- Compute the cumulative product of the elements.\n",
        "\n",
        "####6. Imagine you have a dataset representing the scores of 4 students in 3 subjects:\n",
        "scores = np.array([[85, 92, 78], [88, 76, 95], [91, 89, 82], [75, 85, 88]])\n",
        "- Compute the average score for each student.\n",
        "- Compute the highest score in each subject.\n",
        "- Determine the overall average score for all students across all subjects."
      ],
      "metadata": {
        "id": "gpcuUfrjZiBa"
      }
    },
    {
      "cell_type": "code",
      "source": [
        "#Question 1\n",
        "\n",
        "# Generate a random array of size 10\n",
        "arr = np.random.rand(10)\n",
        "\n",
        "# Print the array\n",
        "print(\"Array:\", arr)\n",
        "\n",
        "# Calculate the sum of all elements\n",
        "sum_arr = np.sum(arr)\n",
        "print(\"Sum of all elements:\", sum_arr)\n",
        "\n",
        "# Calculate the mean of the array\n",
        "mean_arr = np.mean(arr)\n",
        "print(\"Mean of the array:\", mean_arr)\n",
        "\n",
        "# Calculate the standard deviation\n",
        "std_arr = np.std(arr)\n",
        "print(\"Standard deviation:\", std_arr)\n",
        "\n",
        "# Find 5 * Minimum - 3 * Maximum\n",
        "result = 5 * np.min(arr) - 3 * np.max(arr)\n",
        "print(\"5 * Minimum - 3 * Maximum:\", result)\n"
      ],
      "metadata": {
        "id": "4s7-dXbzqEwh",
        "colab": {
          "base_uri": "https://localhost:8080/"
        },
        "outputId": "1447c672-e619-4e7a-f8d6-8a61b7178d46"
      },
      "execution_count": null,
      "outputs": [
        {
          "output_type": "stream",
          "name": "stdout",
          "text": [
            "Array: [5.64298007e-01 3.56355975e-01 1.30963909e-01 4.49996683e-01\n",
            " 3.32693134e-01 6.97352207e-01 6.53351142e-01 5.88215150e-04\n",
            " 6.42060251e-01 6.73885329e-01]\n",
            "Sum of all elements: 4.5015448530491105\n",
            "Mean of the array: 0.45015448530491103\n",
            "Standard deviation: 0.22997727315331928\n",
            "5 * Minimum - 3 * Maximum: -2.089115545649599\n"
          ]
        }
      ]
    },
    {
      "cell_type": "code",
      "source": [
        "#Question 2\n",
        "# Generate a 4x5 matrix with random integers between 1 and 50\n",
        "matrix = np.random.randint(1, 51, size=(4, 5))\n",
        "\n",
        "# Print the matrix\n",
        "print(\"Matrix:\")\n",
        "print(matrix)\n",
        "\n",
        "# Compute the mean of all elements in the matrix\n",
        "mean_matrix = np.mean(matrix)\n",
        "print(\"\\nMean of all elements in the matrix:\", mean_matrix)\n",
        "\n",
        "# Compute the sum of each row in the matrix\n",
        "row_sums = np.sum(matrix, axis=1)\n",
        "print(\"\\nSum of each row:\")\n",
        "print(row_sums)\n"
      ],
      "metadata": {
        "id": "Vm26n_a0qHVH",
        "colab": {
          "base_uri": "https://localhost:8080/"
        },
        "outputId": "e47cc2f9-b5b2-473f-b4f5-bd7bb770cbfd"
      },
      "execution_count": null,
      "outputs": [
        {
          "output_type": "stream",
          "name": "stdout",
          "text": [
            "Matrix:\n",
            "[[12 37  4 32 14]\n",
            " [ 4 17  8 15 31]\n",
            " [37 46  3 23 32]\n",
            " [24 23 20 29 20]]\n",
            "\n",
            "Mean of all elements in the matrix: 21.55\n",
            "\n",
            "Sum of each row:\n",
            "[ 99  75 141 116]\n"
          ]
        }
      ]
    },
    {
      "cell_type": "code",
      "source": [
        "#Question 3\n",
        "# Generate a 3x3 matrix with random integers between 1 and 10\n",
        "matrix = np.random.randint(1, 11, size=(3, 3))\n",
        "\n",
        "# Print the matrix\n",
        "print(\"Matrix:\")\n",
        "print(matrix)\n",
        "\n",
        "# Find the minimum value in each column and store it in a list 'min'\n",
        "min_values = np.min(matrix, axis=0)\n",
        "print(\"\\nMinimum value in each column:\", min_values)\n",
        "\n",
        "# Find the maximum value in each row and store it in a list 'max'\n",
        "max_values = np.max(matrix, axis=1)\n",
        "print(\"\\nMaximum value in each row:\", max_values)\n",
        "\n",
        "# Compute the minimum of list 'max' - maximum of list 'min'\n",
        "result = np.min(max_values) - np.max(min_values)\n",
        "print(\"\\nMinimum of max values - Maximum of min values:\", result)\n"
      ],
      "metadata": {
        "colab": {
          "base_uri": "https://localhost:8080/"
        },
        "id": "o0VtaO2dxSIY",
        "outputId": "66b15a9c-cc9c-4dd9-c4b0-7a291553229e"
      },
      "execution_count": null,
      "outputs": [
        {
          "output_type": "stream",
          "name": "stdout",
          "text": [
            "Matrix:\n",
            "[[4 8 4]\n",
            " [1 3 1]\n",
            " [4 2 5]]\n",
            "\n",
            "Minimum value in each column: [1 2 1]\n",
            "\n",
            "Maximum value in each row: [8 3 5]\n",
            "\n",
            "Minimum of max values - Maximum of min values: 1\n"
          ]
        }
      ]
    },
    {
      "cell_type": "code",
      "source": [
        "#Question 4\n",
        "data = np.array([15, 25, 35, 45, 55, 65])\n",
        "\n",
        "# Find the minimum value\n",
        "min_value = np.min(data)\n",
        "print(min_value)\n",
        "\n",
        "# Subtract the minimum value from all elements\n",
        "resulting_array = data - min_value\n",
        "\n",
        "# Calculate the mean of the resulting array\n",
        "mean_result = np.mean(resulting_array)\n",
        "\n",
        "print(mean_result)\n"
      ],
      "metadata": {
        "colab": {
          "base_uri": "https://localhost:8080/"
        },
        "id": "9t8mQuoLyNYW",
        "outputId": "8007e3d5-43a0-4a5f-e589-dbf5831ec649"
      },
      "execution_count": null,
      "outputs": [
        {
          "output_type": "stream",
          "name": "stdout",
          "text": [
            "15\n",
            "25.0\n"
          ]
        }
      ]
    },
    {
      "cell_type": "code",
      "source": [
        "#Question 5\n",
        "arr = np.array([3, 5, 7, 9, 11])\n",
        "\n",
        "# Compute the cumulative sum of the elements\n",
        "cumulative_sum = np.cumsum(arr)\n",
        "\n",
        "# Compute the cumulative product of the elements\n",
        "cumulative_product = np.cumprod(arr)\n",
        "\n",
        "print(\"Cumulative sum:\", cumulative_sum)\n",
        "print(\"Cumulative product:\", cumulative_product)\n"
      ],
      "metadata": {
        "colab": {
          "base_uri": "https://localhost:8080/"
        },
        "id": "fn5UYUC9zLmj",
        "outputId": "a6b1d6e8-43dd-4b49-a411-f370df43813c"
      },
      "execution_count": null,
      "outputs": [
        {
          "output_type": "stream",
          "name": "stdout",
          "text": [
            "Cumulative sum: [ 3  8 15 24 35]\n",
            "Cumulative product: [    3    15   105   945 10395]\n"
          ]
        }
      ]
    },
    {
      "cell_type": "code",
      "source": [
        "#Question 6\n",
        "scores = np.array([[85, 92, 78], [88, 76, 95], [91, 89, 82], [75, 85, 88]])\n",
        "\n",
        "# Compute the average score for each student (mean across columns)\n",
        "average_score_per_student = np.mean(scores, axis=1)\n",
        "\n",
        "# Compute the highest score in each subject (maximum across rows)\n",
        "highest_score_per_subject = np.max(scores, axis=0)\n",
        "\n",
        "# Compute the overall average score for all students across all subjects\n",
        "overall_average_score = np.mean(scores)\n",
        "\n",
        "print(\"Average score for each student:\", average_score_per_student)\n",
        "print(\"Highest score in each subject:\", highest_score_per_subject)\n",
        "print(\"Overall average score for all students:\", overall_average_score)\n"
      ],
      "metadata": {
        "id": "xELmOUEav_4h",
        "outputId": "5155a7d2-c6ab-4b7a-af2d-04f94e736e28",
        "colab": {
          "base_uri": "https://localhost:8080/"
        }
      },
      "execution_count": null,
      "outputs": [
        {
          "output_type": "stream",
          "name": "stdout",
          "text": [
            "Average score for each student: [85.         86.33333333 87.33333333 82.66666667]\n",
            "Highest score in each subject: [91 92 95]\n",
            "Overall average score for all students: 85.33333333333333\n"
          ]
        }
      ]
    },
    {
      "cell_type": "markdown",
      "source": [
        "# **Broadcasting in NumPy**\n",
        "\n",
        "---\n",
        "\n",
        "\n",
        "\n",
        "\n",
        "\n",
        "####1. Given two arrays:\n",
        "\n",
        "A = np.array([[1, 2, 3], [4, 5, 6], [7, 8, 9]]) (shape: (3, 3))\n",
        "B = np.array([10, 20, 30]) (shape: (3,))\n",
        "Perform elementwise addition of A and B using broadcasting and print the result.\n",
        "\n",
        "What is the resulting shape?\n",
        "\n",
        "\n",
        "\n",
        "\n",
        "\n",
        "####2. Write a function check_broadcasting(shape1, shape2) that:\n",
        "\n",
        "Accepts two shapes as input and checks if they are broadcast-compatible.\n",
        "Use the function to test the following shape pairs:\n",
        "(3, 4) and (4,)\n",
        "(2, 1, 5) and (3, 5)\n",
        "(2, 3) and (2,)\n",
        "\n",
        "For each case:\n",
        "\n",
        "* State whether broadcasting is possible.\n",
        "\n",
        "* If possible, state the resulting shape of the operation\n",
        "\n",
        "####3. Create a 2D array A of shape (3, 5) with random integers between 1 and 10.\n",
        "Create a 1D array B of shape (5,) with random integers between 1 and 5.\n",
        "Use broadcasting to subtract B from each row of A and print the result.\n",
        "\n",
        "####4.  Create a 3D array A with shape (2, 4, 3) filled with random integers between 0 and 10.\n",
        "\n",
        "* Create an array B of shape (4, 3) containing a constant value of 5.\n",
        "* Use broadcasting to add B to each 2D array slice of A.\n",
        "* Print the result\n",
        "\n",
        "####5. : You are given a grayscale image of shape (32, 32), where each pixel value is an integer. You want to apply a scaling factor of 0.5 to all the pixel values using broadcasting.\n",
        "\n",
        "\n",
        "* Use broadcasting to scale the image by multiplying it with the scaling factor 0.5.\n",
        "* Verify that the pixel values of the image are halved by printing the scaled image.\n",
        "\n",
        "####6. Calculate the distance between an observation point and a set of code points (codes). The goal is to find the closest code to the observation by calculating the Euclidean distance between each code and the observation.\n",
        "\n",
        "* Given two arrays :\n",
        "\n",
        "codes = np.array([\n",
        "    [1.0, 2.0, 3.0],\n",
        "    [4.0, 5.0, 6.0],\n",
        "    [7.0, 8.0, 9.0],\n",
        "    [1.0, 1.0, 1.0],\n",
        "    [2.0, 3.0, 4.0]\n",
        "])\n",
        "\n",
        "\n",
        "observation = np.array([3.0, 3.0, 3.0])\n",
        "\n",
        "\n",
        "* Use broadcasting to calculate the squared Euclidean distance between the observation and each code.\n",
        "* Find and print the index of the closest code to the observation.\n",
        "* Print the distance between the observation and the closest code.\n",
        "\n",
        "**HINT : use np.argmin() to find the index of the closest code**\n",
        "\n",
        "\n"
      ],
      "metadata": {
        "id": "bXLxBAUL3cRt"
      }
    },
    {
      "cell_type": "code",
      "source": [
        "#Question 1\n",
        "A = np.array([[1, 2, 3], [4, 5, 6], [7, 8, 9]])\n",
        "B = np.array([10, 20, 30])\n",
        "\n",
        "# Perform elementwise addition using broadcasting\n",
        "result = A + B\n",
        "\n",
        "print(\"Resulting array:\")\n",
        "print(result)\n",
        "\n",
        "# Print the shape of the resulting array\n",
        "print(\"Shape of the resulting array:\", result.shape)\n"
      ],
      "metadata": {
        "colab": {
          "base_uri": "https://localhost:8080/"
        },
        "id": "2aGLvnBW03xk",
        "outputId": "c506e3bf-19d4-49e8-a016-3056d5f73bfd"
      },
      "execution_count": null,
      "outputs": [
        {
          "output_type": "stream",
          "name": "stdout",
          "text": [
            "Resulting array:\n",
            "[[11 22 33]\n",
            " [14 25 36]\n",
            " [17 28 39]]\n",
            "Shape of the resulting array: (3, 3)\n"
          ]
        }
      ]
    },
    {
      "cell_type": "code",
      "source": [
        "#Question 2\n",
        "\n",
        "def check_broadcasting(shape1, shape2):\n",
        "    try:\n",
        "        # Try to apply broadcasting using numpy\n",
        "        result = np.broadcast(np.empty(shape1), np.empty(shape2))\n",
        "        # If broadcasting is possible, return the resulting shape\n",
        "        return True, result.shape\n",
        "    except ValueError:\n",
        "        # If broadcasting is not possible, return False\n",
        "        return False, None\n",
        "\n",
        "# Test cases\n",
        "test_cases = [\n",
        "    ((3, 4), (4,)),\n",
        "    ((2, 1, 5), (3, 5)),\n",
        "    ((2, 3), (2,))\n",
        "]\n",
        "\n",
        "# Checking each test case\n",
        "for shape1, shape2 in test_cases:\n",
        "    can_broadcast, result_shape = check_broadcasting(shape1, shape2)\n",
        "    if can_broadcast:\n",
        "        print(f\"Broadcasting is possible between {shape1} and {shape2}. Resulting shape: {result_shape}\")\n",
        "    else:\n",
        "        print(f\"Broadcasting is not possible between {shape1} and {shape2}.\")\n"
      ],
      "metadata": {
        "colab": {
          "base_uri": "https://localhost:8080/"
        },
        "id": "ZCSAB_q_1BC2",
        "outputId": "a61511bb-28a6-4303-9996-c6fc8f0f1d6d"
      },
      "execution_count": null,
      "outputs": [
        {
          "output_type": "stream",
          "name": "stdout",
          "text": [
            "Broadcasting is possible between (3, 4) and (4,). Resulting shape: (3, 4)\n",
            "Broadcasting is possible between (2, 1, 5) and (3, 5). Resulting shape: (2, 3, 5)\n",
            "Broadcasting is not possible between (2, 3) and (2,).\n"
          ]
        }
      ]
    },
    {
      "cell_type": "code",
      "source": [
        "#Question 3\n",
        "\n",
        "# Create a 2D array A with shape (3, 5) and random integers between 1 and 10\n",
        "A = np.random.randint(1, 11, size=(3, 5))\n",
        "\n",
        "# Create a 1D array B with shape (5,) and random integers between 1 and 5\n",
        "B = np.random.randint(1, 6, size=5)\n",
        "\n",
        "# Subtract B from each row of A using broadcasting\n",
        "result = A - B\n",
        "\n",
        "# Print the results\n",
        "print(\"Array A:\")\n",
        "print(A)\n",
        "print(\"\\nArray B:\")\n",
        "print(B)\n",
        "print(\"\\nResult of A - B (using broadcasting):\")\n",
        "print(result)\n"
      ],
      "metadata": {
        "colab": {
          "base_uri": "https://localhost:8080/"
        },
        "id": "2odiVu3J1BfJ",
        "outputId": "722b1075-7701-41ec-b631-17cdb2beb6f3"
      },
      "execution_count": null,
      "outputs": [
        {
          "output_type": "stream",
          "name": "stdout",
          "text": [
            "Array A:\n",
            "[[ 1  1  1  8  2]\n",
            " [ 3  5 10 10  1]\n",
            " [ 1  7  5  4  8]]\n",
            "\n",
            "Array B:\n",
            "[5 1 4 3 3]\n",
            "\n",
            "Result of A - B (using broadcasting):\n",
            "[[-4  0 -3  5 -1]\n",
            " [-2  4  6  7 -2]\n",
            " [-4  6  1  1  5]]\n"
          ]
        }
      ]
    },
    {
      "cell_type": "code",
      "source": [
        "#Question 4\n",
        "\n",
        "# Create a 3D array A with shape (2, 4, 3) filled with random integers between 0 and 10\n",
        "A = np.random.randint(0, 11, size=(2, 4, 3))\n",
        "\n",
        "# Create a 2D array B with shape (4, 3) containing constant values of 5\n",
        "B = np.full((4, 3), 5)\n",
        "\n",
        "# Add B to each 2D slice of A using broadcasting\n",
        "result = A + B\n",
        "\n",
        "# Print the results\n",
        "print(\"Array A (3D):\")\n",
        "print(A)\n",
        "print(\"\\nArray B (2D):\")\n",
        "print(B)\n",
        "print(\"\\nResult of A + B (using broadcasting):\")\n",
        "print(result)\n"
      ],
      "metadata": {
        "colab": {
          "base_uri": "https://localhost:8080/"
        },
        "id": "VBvXGbOY-UIa",
        "outputId": "ae82a628-0c93-4da1-fa2d-0ce6a5319cee"
      },
      "execution_count": null,
      "outputs": [
        {
          "output_type": "stream",
          "name": "stdout",
          "text": [
            "Array A (3D):\n",
            "[[[ 2  2  8]\n",
            "  [ 6  3  7]\n",
            "  [ 0  7 10]\n",
            "  [ 8  6  9]]\n",
            "\n",
            " [[ 4  2  5]\n",
            "  [ 6  4  4]\n",
            "  [ 5  6  7]\n",
            "  [ 8  0  2]]]\n",
            "\n",
            "Array B (2D):\n",
            "[[5 5 5]\n",
            " [5 5 5]\n",
            " [5 5 5]\n",
            " [5 5 5]]\n",
            "\n",
            "Result of A + B (using broadcasting):\n",
            "[[[ 7  7 13]\n",
            "  [11  8 12]\n",
            "  [ 5 12 15]\n",
            "  [13 11 14]]\n",
            "\n",
            " [[ 9  7 10]\n",
            "  [11  9  9]\n",
            "  [10 11 12]\n",
            "  [13  5  7]]]\n"
          ]
        }
      ]
    },
    {
      "cell_type": "code",
      "source": [
        "#Question 5\n",
        "\n",
        "# Create a grayscale image of shape (32, 32) with random integer values between 0 and 255 (representing pixel values)\n",
        "image = np.random.randint(0, 256, size=(32, 32), dtype=int)\n",
        "\n",
        "# Define the scaling factor\n",
        "scaling_factor = 0.5\n",
        "\n",
        "# Apply the scaling factor using broadcasting\n",
        "scaled_image = image * scaling_factor\n",
        "\n",
        "# Print the original and scaled images\n",
        "print(\"Original Image:\")\n",
        "print(image)\n",
        "\n",
        "print(\"\\nScaled Image (after applying a scaling factor of 0.5):\")\n",
        "print(scaled_image)\n"
      ],
      "metadata": {
        "colab": {
          "base_uri": "https://localhost:8080/"
        },
        "id": "bPc5ZRJk-UkW",
        "outputId": "0e9e0bc2-a17f-41a5-88e3-ae089317f4a8"
      },
      "execution_count": null,
      "outputs": [
        {
          "output_type": "stream",
          "name": "stdout",
          "text": [
            "Original Image:\n",
            "[[153 199  81 ... 212 230   3]\n",
            " [219  15 104 ...  21 190 170]\n",
            " [ 33  79  77 ... 123  13 141]\n",
            " ...\n",
            " [ 70 154 214 ...  55 209  66]\n",
            " [180 100  78 ... 171  69 138]\n",
            " [164 186 233 ... 151  44  34]]\n",
            "\n",
            "Scaled Image (after applying a scaling factor of 0.5):\n",
            "[[ 76.5  99.5  40.5 ... 106.  115.    1.5]\n",
            " [109.5   7.5  52.  ...  10.5  95.   85. ]\n",
            " [ 16.5  39.5  38.5 ...  61.5   6.5  70.5]\n",
            " ...\n",
            " [ 35.   77.  107.  ...  27.5 104.5  33. ]\n",
            " [ 90.   50.   39.  ...  85.5  34.5  69. ]\n",
            " [ 82.   93.  116.5 ...  75.5  22.   17. ]]\n"
          ]
        }
      ]
    },
    {
      "cell_type": "code",
      "source": [
        "#Question 6\n",
        "\n",
        "# Given code points and observation\n",
        "codes = np.array([[1.0, 2.0, 3.0],\n",
        "                  [4.0, 5.0, 6.0],\n",
        "                  [7.0, 8.0, 9.0],\n",
        "                  [1.0, 1.0, 1.0],\n",
        "                  [2.0, 3.0, 4.0]])\n",
        "\n",
        "observation = np.array([3.0, 3.0, 3.0])\n",
        "\n",
        "# Calculate the squared Euclidean distance using broadcasting\n",
        "distances_squared = np.sum((codes - observation) ** 2, axis=1)\n",
        "\n",
        "# Find the index of the closest code point\n",
        "closest_index = np.argmin(distances_squared)\n",
        "\n",
        "# Calculate the Euclidean distance (take the square root of the squared distance)\n",
        "closest_distance = np.sqrt(distances_squared[closest_index])\n",
        "\n",
        "# Print the index of the closest code and the corresponding distance\n",
        "print(f\"Index of the closest code: {closest_index}\")\n",
        "print(f\"Distance between the observation and the closest code: {closest_distance}\")\n"
      ],
      "metadata": {
        "colab": {
          "base_uri": "https://localhost:8080/"
        },
        "id": "HcBjt1ri-U-W",
        "outputId": "a9e3b2ab-25c7-4175-f278-d580db6705c4"
      },
      "execution_count": null,
      "outputs": [
        {
          "output_type": "stream",
          "name": "stdout",
          "text": [
            "Index of the closest code: 4\n",
            "Distance between the observation and the closest code: 1.4142135623730951\n"
          ]
        }
      ]
    },
    {
      "cell_type": "markdown",
      "source": [
        "# Concatenation\n",
        "\n",
        "1. Write a program to vertically stack arrays using `np.vstack` and print the result: (Use any three 1D arrays) <br/>\n",
        "<br/>\n",
        "2. Write a program to horizontally stack arrays using `np.hstack`. Print the result: (Use any three 1D arrays) <br/>\n",
        "<br/>\n",
        "3. Given two 2D arrays of the same row size, horizontally stack them using `np.hstack` and print the result:<br/>\n",
        "`m = np.array([[2, 4], [3, 6]])`<br/>\n",
        "`n = np.array([[4, 8], [5, 10]])`<br/>\n",
        "<br/>\n",
        "4. Using `np.vstack`, stack the following arrays vertically and print the results:<br/>\n",
        "`a = np.array([11, 12, 13])`<br/>\n",
        "`b = np.array([[14, 15, 16], [17, 18, 19]])`<br/>\n",
        "<br/>\n",
        "5. Concatenate the following 2D arrays along different axes using `np.concatenate`. Demonstrate how to concatenate them along axis 0 and axis 1.<br/>\n",
        "`x = np.array([[1, 2], [3, 4]])`<br/>\n",
        "`y = np.array([[5, 6], [7, 8]])`<br/>\n",
        "`z = np.array([[9, 10], [11, 12]])`<br/>"
      ],
      "metadata": {
        "id": "ehP-oE00BN3l"
      }
    },
    {
      "cell_type": "code",
      "source": [
        "#Question 1\n",
        "\n",
        "# Create three 1D arrays\n",
        "arr1 = np.array([1, 2, 3])\n",
        "arr2 = np.array([4, 5, 6])\n",
        "arr3 = np.array([7, 8, 9])\n",
        "\n",
        "# Vertically stack the arrays\n",
        "stacked_arr = np.vstack((arr1, arr2, arr3))\n",
        "\n",
        "# Print the result\n",
        "print(\"Vertically Stacked Array:\")\n",
        "print(stacked_arr)\n"
      ],
      "metadata": {
        "id": "M6jI4GPJ5ihy"
      },
      "execution_count": null,
      "outputs": []
    },
    {
      "cell_type": "code",
      "source": [
        "#Question 2\n",
        "\n",
        "# Create three 1D arrays\n",
        "arr1 = np.array([1, 2, 3])\n",
        "arr2 = np.array([4, 5, 6])\n",
        "arr3 = np.array([7, 8, 9])\n",
        "\n",
        "# Horizontally stack the arrays\n",
        "stacked_arr = np.hstack((arr1, arr2, arr3))\n",
        "\n",
        "# Print the result\n",
        "print(\"Horizontally Stacked Array:\")\n",
        "print(stacked_arr)\n"
      ],
      "metadata": {
        "colab": {
          "base_uri": "https://localhost:8080/"
        },
        "id": "KWxJyLxC5ofU",
        "outputId": "4f9306b3-f29e-4a4a-e002-063625aa0d86"
      },
      "execution_count": null,
      "outputs": [
        {
          "output_type": "stream",
          "name": "stdout",
          "text": [
            "Horizontally Stacked Array:\n",
            "[1 2 3 4 5 6 7 8 9]\n"
          ]
        }
      ]
    },
    {
      "cell_type": "code",
      "source": [
        "#Question 3\n",
        "\n",
        "# Create the two 2D arrays\n",
        "m = np.array([[2, 4], [3, 6]])\n",
        "n = np.array([[4, 8], [5, 10]])\n",
        "\n",
        "# Horizontally stack the arrays\n",
        "stacked_arr = np.hstack((m, n))\n",
        "\n",
        "# Print the result\n",
        "print(\"Horizontally Stacked Array:\")\n",
        "print(stacked_arr)\n"
      ],
      "metadata": {
        "colab": {
          "base_uri": "https://localhost:8080/"
        },
        "id": "11RPtD8m5o64",
        "outputId": "06218b7a-ee08-4ad6-bcd8-84f41ea27c89"
      },
      "execution_count": null,
      "outputs": [
        {
          "output_type": "stream",
          "name": "stdout",
          "text": [
            "Horizontally Stacked Array:\n",
            "[[ 2  4  4  8]\n",
            " [ 3  6  5 10]]\n"
          ]
        }
      ]
    },
    {
      "cell_type": "code",
      "source": [
        "#Question 4\n",
        "\n",
        "# Create the arrays\n",
        "a = np.array([11, 12, 13])\n",
        "b = np.array([[14, 15, 16], [17, 18, 19]])\n",
        "\n",
        "# Vertically stack the arrays\n",
        "stacked_arr = np.vstack((a, b))\n",
        "\n",
        "# Print the result\n",
        "print(\"Vertically Stacked Array:\")\n",
        "print(stacked_arr)\n"
      ],
      "metadata": {
        "id": "TgHuTN5l5pRA"
      },
      "execution_count": null,
      "outputs": []
    },
    {
      "cell_type": "code",
      "source": [
        "#Question 5\n",
        "\n",
        "# Create the 2D arrays\n",
        "x = np.array([[1, 2], [3, 4]])\n",
        "y = np.array([[5, 6], [7, 8]])\n",
        "z = np.array([[9, 10], [11, 12]])\n",
        "\n",
        "# Concatenate along axis 0 (vertically)\n",
        "concatenated_axis0 = np.concatenate((x, y, z), axis=0)\n",
        "\n",
        "# Concatenate along axis 1 (horizontally)\n",
        "concatenated_axis1 = np.concatenate((x, y, z), axis=1)\n",
        "\n",
        "# Print the results\n",
        "print(\"Concatenated along axis 0 (vertically):\")\n",
        "print(concatenated_axis0)\n",
        "print(\"\\nConcatenated along axis 1 (horizontally):\")\n",
        "print(concatenated_axis1)\n"
      ],
      "metadata": {
        "colab": {
          "base_uri": "https://localhost:8080/"
        },
        "id": "75pDmpCO7K1s",
        "outputId": "1d68655f-f255-4da3-d2a0-416dd816e79c"
      },
      "execution_count": null,
      "outputs": [
        {
          "output_type": "stream",
          "name": "stdout",
          "text": [
            "Concatenated along axis 0 (vertically):\n",
            "[[ 1  2]\n",
            " [ 3  4]\n",
            " [ 5  6]\n",
            " [ 7  8]\n",
            " [ 9 10]\n",
            " [11 12]]\n",
            "\n",
            "Concatenated along axis 1 (horizontally):\n",
            "[[ 1  2  5  6  9 10]\n",
            " [ 3  4  7  8 11 12]]\n"
          ]
        }
      ]
    },
    {
      "cell_type": "markdown",
      "source": [
        "# Boolean Masking\n",
        "\n",
        "1. Use Boolean masking to filter elements from a 1D array:\n",
        "Write a program to create a 1D array and use Boolean masking to filter out all elements greater than 5.<br/>\n",
        "\n",
        "2. Apply a Boolean mask to a 2D array:\n",
        "Given the 2D array below, create a Boolean mask to select all elements greater than 10 and print the masked elements.<br/>\n",
        "`arr = np.array([[5, 12, 18], [7, 1, 3], [11, 6, 14]])`\n",
        " <br/>\n",
        "3. Create a Boolean mask using a condition on an array:\n",
        "Create a 1D array of integers from 0 to 10. Use a Boolean mask to filter out all even numbers and print the result.<br/>\n",
        "Example:\n",
        "`arr = np.arange(11)`\n",
        "<br/>\n",
        "4. Combine Boolean masks using logical operations:\n",
        "Given the array below, create and combine two Boolean masks:<br/>\n",
        "One mask selects elements greater than 5.\n",
        "The other mask selects elements divisible by 3.\n",
        "Combine the masks using logical AND and print the result.\n",
        "Example:\n",
        "`arr = np.array([1, 3, 6, 9, 12, 15])`\n",
        "<br/>\n",
        "5. Mask elements in a 2D array and replace them:\n",
        "Write a program to replace all elements less than 5 in the 2D array below with 0 using Boolean masking.\n",
        "<br/>\n",
        "6.  Count elements satisfying a condition using Boolean masks:\n",
        "Write a program to count how many elements in the array below are greater than 5.\n",
        "<br/>"
      ],
      "metadata": {
        "id": "NCs1VlmHiFli"
      }
    },
    {
      "cell_type": "code",
      "source": [
        "#Question 1\n",
        "# Create a 1D array\n",
        "arr = np.array([1, 3, 6, 8, 2, 4, 7, 5])\n",
        "\n",
        "# Use Boolean masking to filter out elements greater than 5\n",
        "filtered_arr = arr[arr <= 5]\n",
        "\n",
        "# Print the filtered array\n",
        "print(\"Original Array:\", arr)\n",
        "print(\"Filtered Array (elements <= 5):\", filtered_arr)\n"
      ],
      "metadata": {
        "id": "kqfIdkmLkUaD",
        "colab": {
          "base_uri": "https://localhost:8080/"
        },
        "outputId": "873fe3fa-d199-4267-fd04-48e32cda9bae"
      },
      "execution_count": null,
      "outputs": [
        {
          "output_type": "stream",
          "name": "stdout",
          "text": [
            "Original Array: [1 3 6 8 2 4 7 5]\n",
            "Filtered Array (elements <= 5): [1 3 2 4 5]\n"
          ]
        }
      ]
    },
    {
      "cell_type": "code",
      "source": [
        "#Question 2\n",
        "# Create a 2D array\n",
        "arr = np.array([[5, 12, 18], [7, 1, 3], [11, 6, 14]])\n",
        "\n",
        "# Create a Boolean mask for elements greater than 10\n",
        "mask = arr > 10\n",
        "\n",
        "# Apply the mask to the array\n",
        "masked_elements = arr[mask]\n",
        "\n",
        "# Print the masked elements\n",
        "print(\"Masked Elements (greater than 10):\", masked_elements)\n"
      ],
      "metadata": {
        "colab": {
          "base_uri": "https://localhost:8080/"
        },
        "id": "f_CM3glA3iKl",
        "outputId": "d53326a8-c18b-47b8-cce9-72cb045f53c1"
      },
      "execution_count": null,
      "outputs": [
        {
          "output_type": "stream",
          "name": "stdout",
          "text": [
            "Masked Elements (greater than 10): [12 18 11 14]\n"
          ]
        }
      ]
    },
    {
      "cell_type": "code",
      "source": [
        "#Question 3\n",
        "\n",
        "# Create a 1D array of integers from 0 to 10\n",
        "arr = np.arange(11)\n",
        "\n",
        "# Create a Boolean mask for odd numbers (i.e., numbers that are not even)\n",
        "mask = arr % 2 != 0\n",
        "\n",
        "# Apply the mask to the array\n",
        "filtered_arr = arr[mask]\n",
        "\n",
        "# Print the filtered result\n",
        "print(\"Array with only odd numbers:\", filtered_arr)\n"
      ],
      "metadata": {
        "colab": {
          "base_uri": "https://localhost:8080/"
        },
        "id": "rKwN-jGa388k",
        "outputId": "3b3c3a0d-ec19-48bb-f87d-fecdae3ff001"
      },
      "execution_count": null,
      "outputs": [
        {
          "output_type": "stream",
          "name": "stdout",
          "text": [
            "Array with only odd numbers: [1 3 5 7 9]\n"
          ]
        }
      ]
    },
    {
      "cell_type": "code",
      "source": [
        "#Question 4\n",
        "\n",
        "# Create the array\n",
        "arr = np.array([1, 3, 6, 9, 12, 15])\n",
        "\n",
        "# Create the first mask for elements greater than 5\n",
        "mask_1 = arr > 5\n",
        "\n",
        "# Create the second mask for elements divisible by 3\n",
        "mask_2 = arr % 3 == 0\n",
        "\n",
        "# Combine the masks using logical AND\n",
        "combined_mask = mask_1 & mask_2\n",
        "\n",
        "# Apply the combined mask to the array\n",
        "filtered_arr = arr[combined_mask]\n",
        "\n",
        "# Print the filtered result\n",
        "print(\"Elements greater than 5 and divisible by 3:\", filtered_arr)\n"
      ],
      "metadata": {
        "colab": {
          "base_uri": "https://localhost:8080/"
        },
        "id": "EV2KIWf739V1",
        "outputId": "09e6a0a1-d281-4f2f-eec0-068cc3503970"
      },
      "execution_count": null,
      "outputs": [
        {
          "output_type": "stream",
          "name": "stdout",
          "text": [
            "Elements greater than 5 and divisible by 3: [ 6  9 12 15]\n"
          ]
        }
      ]
    },
    {
      "cell_type": "code",
      "source": [
        "#Question 5\n",
        "\n",
        "# Create a 2D array\n",
        "arr = np.array([[1, 6, 3], [8, 2, 9], [4, 7, 5]])\n",
        "\n",
        "# Create a Boolean mask for elements less than 5\n",
        "mask = arr < 5\n",
        "\n",
        "# Replace elements less than 5 with 0 using the mask\n",
        "arr[mask] = 0\n",
        "\n",
        "# Print the modified array\n",
        "print(\"Modified Array:\")\n",
        "print(arr)\n"
      ],
      "metadata": {
        "colab": {
          "base_uri": "https://localhost:8080/"
        },
        "id": "1Nn-H9G14tCf",
        "outputId": "bc8423cf-accb-4edf-a882-4362f93751bb"
      },
      "execution_count": null,
      "outputs": [
        {
          "output_type": "stream",
          "name": "stdout",
          "text": [
            "Modified Array:\n",
            "[[0 6 0]\n",
            " [8 0 9]\n",
            " [0 7 5]]\n"
          ]
        }
      ]
    },
    {
      "cell_type": "code",
      "source": [
        "#Question 6\n",
        "\n",
        "# Create the array\n",
        "arr = np.array([1, 3, 6, 9, 12, 15])\n",
        "\n",
        "# Create a Boolean mask for elements greater than 5\n",
        "mask = arr > 5\n",
        "\n",
        "# Count how many elements satisfy the condition (greater than 5)\n",
        "count = np.sum(mask)\n",
        "\n",
        "# Print the count\n",
        "print(\"Number of elements greater than 5:\", count)\n"
      ],
      "metadata": {
        "colab": {
          "base_uri": "https://localhost:8080/"
        },
        "id": "5mUHgbBD4z87",
        "outputId": "fdc55b35-e0d5-4a8f-e899-a6a06592912f"
      },
      "execution_count": null,
      "outputs": [
        {
          "output_type": "stream",
          "name": "stdout",
          "text": [
            "Number of elements greater than 5: 4\n"
          ]
        }
      ]
    }
  ]
}